{
 "cells": [
  {
   "cell_type": "code",
   "execution_count": 3,
   "metadata": {},
   "outputs": [],
   "source": [
    "#Q1\n",
    "#advantages of a function.\n",
    "#A function is itself a small program that we have to make one time in our working page to deal with all the input values and hence we save our time.\n",
    "#it reduces the effort by the coder and reduce lines in his program.\n",
    "#it makes a program simple to look and easy to understand."
   ]
  },
  {
   "cell_type": "code",
   "execution_count": 12,
   "metadata": {},
   "outputs": [
    {
     "name": "stdout",
     "output_type": "stream",
     "text": [
      "9 is an odd number.\n",
      "4 is an even number.\n"
     ]
    }
   ],
   "source": [
    "#Q2\n",
    "#we have to put an element after the function name in curly brackets.\n",
    "#for ex:\n",
    "def odd_even(x):\n",
    "    if x%2==0:\n",
    "        print(x,\"is an even number.\")\n",
    "    elif x%2!=0:\n",
    "        print(x,\"is an odd number.\")\n",
    "\n",
    "odd_even(9)\n",
    "odd_even(4)"
   ]
  },
  {
   "cell_type": "code",
   "execution_count": 13,
   "metadata": {},
   "outputs": [],
   "source": [
    "#Q3\n",
    "#def statement creates a function which is iven in answer 2 above."
   ]
  },
  {
   "cell_type": "code",
   "execution_count": 14,
   "metadata": {},
   "outputs": [],
   "source": [
    "#Q4\n",
    "#when you create a function you need to use \"def\" function which hasn't been used while calling the function.\n",
    "#in general after giving the main function name we use an alphabet (ex Q2, \"x\") which is valid for all the values but while calling we only use a specific input.\n",
    "#A function is used to achieve a certain task while a function call performs that task for the given input."
   ]
  },
  {
   "cell_type": "code",
   "execution_count": 15,
   "metadata": {},
   "outputs": [],
   "source": [
    "#Q5\n",
    "# there is one global scope but local scope can be more than one."
   ]
  },
  {
   "cell_type": "code",
   "execution_count": 16,
   "metadata": {},
   "outputs": [],
   "source": [
    "#Q6\n",
    "# when a function calls return after a local variable then it turns into a global variable and local variable gets destroyed."
   ]
  },
  {
   "cell_type": "code",
   "execution_count": 18,
   "metadata": {},
   "outputs": [],
   "source": [
    "#Q7\n",
    "# we use return function to get an output in its original type (not null) and so it has an upper hand over print function. Returned value can't be an expression."
   ]
  },
  {
   "cell_type": "code",
   "execution_count": 19,
   "metadata": {},
   "outputs": [],
   "source": [
    "#Q8\n",
    "# to call the output print statement works as of return but the problem is it gives null type output but simplified."
   ]
  },
  {
   "cell_type": "code",
   "execution_count": 35,
   "metadata": {},
   "outputs": [
    {
     "name": "stdout",
     "output_type": "stream",
     "text": [
      "20 is your global variable\n",
      "20 see your global variable has updated\n"
     ]
    }
   ],
   "source": [
    "#Q9\n",
    "# with the help of \"global\" keyword inside a function with variable we can refer to the global variable\n",
    "x=10 #example\n",
    "def tom():\n",
    "    global x\n",
    "    x=20\n",
    "    print(x,\"is your global variable\")\n",
    "tom()\n",
    "print(x,\"see your global variable has updated\")"
   ]
  },
  {
   "cell_type": "code",
   "execution_count": 40,
   "metadata": {},
   "outputs": [
    {
     "name": "stdout",
     "output_type": "stream",
     "text": [
      "data type of None is <class 'NoneType'>\n"
     ]
    }
   ],
   "source": [
    "#Q10\n",
    "print(\"data type of None is\", type(None))\n",
    "#NoneType"
   ]
  },
  {
   "cell_type": "code",
   "execution_count": 42,
   "metadata": {},
   "outputs": [],
   "source": [
    "#Q11\n",
    "# import areallyourpetsnamederic import the package \"areallyourpetsnamederic\", provided a package or module of this name is availiable in your computer."
   ]
  },
  {
   "cell_type": "code",
   "execution_count": 43,
   "metadata": {},
   "outputs": [],
   "source": [
    "#Q12\n",
    "# after importing spam we simply type bacon() and it will work."
   ]
  },
  {
   "cell_type": "code",
   "execution_count": 44,
   "metadata": {},
   "outputs": [],
   "source": [
    "#Q13\n",
    "# we can use try and except as they are error handlers. try and except don't break the overall code with an error output."
   ]
  },
  {
   "cell_type": "code",
   "execution_count": 59,
   "metadata": {},
   "outputs": [
    {
     "name": "stdout",
     "output_type": "stream",
     "text": [
      "unsupported operand type(s) for /: 'int' and 'str' is your error.\n"
     ]
    }
   ],
   "source": [
    "#Q14\n",
    "# try clause allows the program to handle a controversial input which result may be an error that could be digested by except clause.\n",
    "try: #example\n",
    "    a=5\n",
    "    b=\"fghfc\"\n",
    "    print(a/b)\n",
    "except Exception as e:\n",
    "    print(e,\"is your error.\")"
   ]
  },
  {
   "cell_type": "code",
   "execution_count": null,
   "metadata": {},
   "outputs": [],
   "source": []
  }
 ],
 "metadata": {
  "kernelspec": {
   "display_name": "Python 3",
   "language": "python",
   "name": "python3"
  },
  "language_info": {
   "codemirror_mode": {
    "name": "ipython",
    "version": 3
   },
   "file_extension": ".py",
   "mimetype": "text/x-python",
   "name": "python",
   "nbconvert_exporter": "python",
   "pygments_lexer": "ipython3",
   "version": "3.8.5"
  }
 },
 "nbformat": 4,
 "nbformat_minor": 4
}
